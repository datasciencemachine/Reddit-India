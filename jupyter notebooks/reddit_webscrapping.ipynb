{
 "cells": [
  {
   "cell_type": "markdown",
   "metadata": {},
   "source": [
    "Important library files are imported"
   ]
  },
  {
   "cell_type": "code",
   "execution_count": null,
   "metadata": {
    "colab": {
     "base_uri": "https://localhost:8080/"
    },
    "id": "Ec7d-zZmoM3W",
    "outputId": "42708491-5d50-45a9-a833-2ef9cf453c8f"
   },
   "outputs": [
    {
     "name": "stdout",
     "output_type": "stream",
     "text": [
      "Requirement already satisfied: praw in /usr/local/lib/python3.6/dist-packages (7.1.0)\n",
      "Requirement already satisfied: websocket-client>=0.54.0 in /usr/local/lib/python3.6/dist-packages (from praw) (0.57.0)\n",
      "Requirement already satisfied: update-checker>=0.17 in /usr/local/lib/python3.6/dist-packages (from praw) (0.18.0)\n",
      "Requirement already satisfied: prawcore<2.0,>=1.3.0 in /usr/local/lib/python3.6/dist-packages (from praw) (1.5.0)\n",
      "Requirement already satisfied: six in /usr/local/lib/python3.6/dist-packages (from websocket-client>=0.54.0->praw) (1.15.0)\n",
      "Requirement already satisfied: requests>=2.3.0 in /usr/local/lib/python3.6/dist-packages (from update-checker>=0.17->praw) (2.23.0)\n",
      "Requirement already satisfied: chardet<4,>=3.0.2 in /usr/local/lib/python3.6/dist-packages (from requests>=2.3.0->update-checker>=0.17->praw) (3.0.4)\n",
      "Requirement already satisfied: idna<3,>=2.5 in /usr/local/lib/python3.6/dist-packages (from requests>=2.3.0->update-checker>=0.17->praw) (2.10)\n",
      "Requirement already satisfied: urllib3!=1.25.0,!=1.25.1,<1.26,>=1.21.1 in /usr/local/lib/python3.6/dist-packages (from requests>=2.3.0->update-checker>=0.17->praw) (1.24.3)\n",
      "Requirement already satisfied: certifi>=2017.4.17 in /usr/local/lib/python3.6/dist-packages (from requests>=2.3.0->update-checker>=0.17->praw) (2020.11.8)\n"
     ]
    }
   ],
   "source": [
    "\n",
    "import praw\n",
    "import pandas as pd\n",
    "import datetime as dt"
   ]
  },
  {
   "cell_type": "markdown",
   "metadata": {},
   "source": [
    "A call is made to the reddit api using my reddit app login"
   ]
  },
  {
   "cell_type": "code",
   "execution_count": null,
   "metadata": {
    "id": "rRBMnXfUoYAm"
   },
   "outputs": [],
   "source": [
    "reddit = praw.Reddit(client_id='8-xCwnG8N3QJOw', client_secret='Hu5luIlZWsHED__mLEqAYhoYfVOxSQ', user_agent='r/india', username='Dororo_hyaki')"
   ]
  },
  {
   "cell_type": "markdown",
   "metadata": {},
   "source": [
    "Subreddit is defined to read subsmission, and since the project involved 'r/india', hence applicable subject is passed. Also the hot column is read, since the hot column contains the recent data and has maximum potential to be similar to the users input"
   ]
  },
  {
   "cell_type": "code",
   "execution_count": null,
   "metadata": {
    "id": "DHmSTpqrpfC-"
   },
   "outputs": [],
   "source": [
    "subreddit = reddit.subreddit('india')\n",
    "hot_subs = subreddit.hot()"
   ]
  },
  {
   "cell_type": "markdown",
   "metadata": {},
   "source": [
    "Data relating to only these columns are read, since these are the only columns required for our analysis"
   ]
  },
  {
   "cell_type": "code",
   "execution_count": null,
   "metadata": {
    "id": "jU8xwgRFrtSV"
   },
   "outputs": [],
   "source": [
    "topics_dict = { \"title\":[], \\\n",
    "                \"body\":[],\\\n",
    "               \"flair\":[],\\\n",
    "               \"comments\":[]}"
   ]
  },
  {
   "cell_type": "markdown",
   "metadata": {},
   "source": [
    "The data is read into the dictionary from the API"
   ]
  },
  {
   "cell_type": "code",
   "execution_count": null,
   "metadata": {
    "id": "U-mhVPsxr-jQ"
   },
   "outputs": [],
   "source": [
    "for submission in hot_subs:\n",
    "    topics_dict[\"title\"].append(submission.title)\n",
    "    topics_dict[\"body\"].append(submission.selftext)\n",
    "    topics_dict[\"flair\"].append(submission.link_flair_text)\n",
    "    submission.comments.replace_more(limit=None)\n",
    "    comment = ''\n",
    "    for top_level_comment in submission.comments:\n",
    "        comment = comment + ' ' + top_level_comment.body\n",
    "    topics_dict[\"comments\"].append(comment)"
   ]
  },
  {
   "cell_type": "markdown",
   "metadata": {},
   "source": [
    "The dictionary is converted into a dataframe"
   ]
  },
  {
   "cell_type": "code",
   "execution_count": null,
   "metadata": {
    "id": "Yf2LsDsMsTmV"
   },
   "outputs": [],
   "source": [
    "data = pd.DataFrame(topics_dict)"
   ]
  },
  {
   "cell_type": "code",
   "execution_count": null,
   "metadata": {
    "id": "xE5EAN5ruozW"
   },
   "outputs": [],
   "source": [
    "def string(value):\n",
    "    return str(value)"
   ]
  },
  {
   "cell_type": "markdown",
   "metadata": {},
   "source": [
    "Slight preprocessing before the data is converted into csv file and saved"
   ]
  },
  {
   "cell_type": "code",
   "execution_count": null,
   "metadata": {
    "id": "iDZ8S9AbupVd"
   },
   "outputs": [],
   "source": [
    "data['title'] = data['title'].apply(string)\n",
    "data['body'] = data['body'].apply(string)\n",
    "data['comments'] = data['comments'].apply(string)"
   ]
  },
  {
   "cell_type": "markdown",
   "metadata": {},
   "source": [
    "Finally the data is converted into a csv file"
   ]
  },
  {
   "cell_type": "code",
   "execution_count": null,
   "metadata": {
    "id": "EUXGZKX6RVP-"
   },
   "outputs": [],
   "source": [
    "data.to_csv('reddit.csv',index=False)"
   ]
  }
 ],
 "metadata": {
  "colab": {
   "collapsed_sections": [],
   "name": "reddit_webscrapping",
   "provenance": []
  },
  "kernelspec": {
   "display_name": "Python 3",
   "language": "python",
   "name": "python3"
  },
  "language_info": {
   "codemirror_mode": {
    "name": "ipython",
    "version": 3
   },
   "file_extension": ".py",
   "mimetype": "text/x-python",
   "name": "python",
   "nbconvert_exporter": "python",
   "pygments_lexer": "ipython3",
   "version": "3.7.4"
  }
 },
 "nbformat": 4,
 "nbformat_minor": 1
}
